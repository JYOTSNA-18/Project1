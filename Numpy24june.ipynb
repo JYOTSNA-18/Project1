{
 "cells": [
  {
   "cell_type": "code",
   "execution_count": 1,
   "metadata": {},
   "outputs": [
    {
     "name": "stdout",
     "output_type": "stream",
     "text": [
      "22\n"
     ]
    }
   ],
   "source": [
    "a=10\n",
    "b=12\n",
    "print(a+b)"
   ]
  },
  {
   "cell_type": "code",
   "execution_count": 2,
   "metadata": {},
   "outputs": [
    {
     "name": "stdout",
     "output_type": "stream",
     "text": [
      "c is greatest\n"
     ]
    }
   ],
   "source": [
    "a=10\n",
    "b=12\n",
    "c=15\n",
    "max=0\n",
    "if a > b and a > c:\n",
    "    print (\"a is greatest\") \n",
    "  \n",
    "elif b >c and b > a:\n",
    "    print(\"b is greatest\")\n",
    "else :\n",
    "  print (\"c is greatest\")\n",
    " "
   ]
  },
  {
   "cell_type": "code",
   "execution_count": 3,
   "metadata": {},
   "outputs": [
    {
     "name": "stdout",
     "output_type": "stream",
     "text": [
      "9\n"
     ]
    }
   ],
   "source": [
    "# greatest in list\n",
    "lis=[9,5,6]\n",
    "max=0\n",
    "for i in lis:\n",
    "  if i>max:\n",
    "    max=i\n",
    "print(max)"
   ]
  },
  {
   "cell_type": "code",
   "execution_count": 5,
   "metadata": {},
   "outputs": [
    {
     "name": "stdout",
     "output_type": "stream",
     "text": [
      "[9, 7, 5, 3]\n"
     ]
    }
   ],
   "source": [
    "# TO FIND REVERSE\n",
    "a=[3,5,7,9]\n",
    "b=[]\n",
    "for i in range(len(a)-1,-1,-1):\n",
    "  b.append(a[i])\n",
    "print(b)"
   ]
  },
  {
   "cell_type": "code",
   "execution_count": 6,
   "metadata": {},
   "outputs": [
    {
     "name": "stdout",
     "output_type": "stream",
     "text": [
      "0\n",
      "1\n",
      "1\n",
      "2\n",
      "3\n",
      "5\n",
      "8\n",
      "13\n"
     ]
    }
   ],
   "source": [
    "# generate fibonacci series\n",
    "\n",
    "a=0\n",
    "b=1\n",
    "print(a)\n",
    "print(b)\n",
    "n=7\n",
    "for i in range(1,n):\n",
    "  sum = a+b\n",
    "  a=b\n",
    "  b=sum\n",
    "  print(sum)"
   ]
  },
  {
   "cell_type": "code",
   "execution_count": 7,
   "metadata": {},
   "outputs": [],
   "source": [
    "# fibonacci series by function\n",
    "\n",
    "def fibonacci(n):\n",
    "  a=0\n",
    "  b=1\n",
    "  print(a)\n",
    "  print(b)\n",
    "  for i in range (1,n):\n",
    "    c=a+b\n",
    "    a=b\n",
    "    b=c\n",
    "    print(c)"
   ]
  },
  {
   "cell_type": "code",
   "execution_count": 8,
   "metadata": {},
   "outputs": [
    {
     "name": "stdout",
     "output_type": "stream",
     "text": [
      "2\n",
      "(2, 3)\n",
      "6\n",
      "int64\n"
     ]
    }
   ],
   "source": [
    "# Numpy\n",
    "import numpy as np\n",
    "arr = np.array([[1,2,3],[4,2,5]])\n",
    "print(arr.ndim)\n",
    "print(arr.shape)\n",
    "print(arr.size)\n",
    "print(arr.dtype)"
   ]
  },
  {
   "cell_type": "code",
   "execution_count": 9,
   "metadata": {},
   "outputs": [],
   "source": [
    "import numpy as np\n",
    "x = np.array ([1,2,3])\n",
    "y = np.array ([5,6,7])"
   ]
  },
  {
   "cell_type": "code",
   "execution_count": 10,
   "metadata": {},
   "outputs": [
    {
     "data": {
      "text/plain": [
       "array([1, 2, 3])"
      ]
     },
     "execution_count": 10,
     "metadata": {},
     "output_type": "execute_result"
    }
   ],
   "source": [
    "x"
   ]
  },
  {
   "cell_type": "markdown",
   "metadata": {},
   "source": [
    "# NUMPY"
   ]
  },
  {
   "cell_type": "code",
   "execution_count": 23,
   "metadata": {},
   "outputs": [
    {
     "name": "stdout",
     "output_type": "stream",
     "text": [
      "[[2 1 1]\n",
      " [2 1 2]\n",
      " [1 2 1]]\n"
     ]
    }
   ],
   "source": [
    "import random\n",
    "import numpy as np\n",
    "a = np.random.randint(low=1,high=3,size=(3,3)) # generating a matrix between 1-3 with 3 rows and 3 columns\n",
    "print(a)"
   ]
  },
  {
   "cell_type": "code",
   "execution_count": 22,
   "metadata": {},
   "outputs": [
    {
     "name": "stdout",
     "output_type": "stream",
     "text": [
      "[[2 3 2]\n",
      " [2 3 3]\n",
      " [2 2 2]]\n"
     ]
    }
   ],
   "source": [
    "b = np.random.randint (low=2,high=4,size=(3,3)) # generating a matrix between 2-4 with 3 rows and 3 columns\n",
    "print(b)"
   ]
  },
  {
   "cell_type": "code",
   "execution_count": 28,
   "metadata": {},
   "outputs": [
    {
     "name": "stdout",
     "output_type": "stream",
     "text": [
      "[[ 8 11  9]\n",
      " [10 13 11]\n",
      " [ 8 11 10]]\n"
     ]
    }
   ],
   "source": [
    "dot  = np.dot(a,b) # dot product of two vectors\n",
    "print(c)"
   ]
  },
  {
   "cell_type": "code",
   "execution_count": 30,
   "metadata": {},
   "outputs": [
    {
     "name": "stdout",
     "output_type": "stream",
     "text": [
      "[[-1 -2  4]\n",
      " [-3 -2  4]\n",
      " [ 2  0 -2]]\n"
     ]
    }
   ],
   "source": [
    "cross= np.cross(a,b) # cross product of two vectors\n",
    "print(cross)"
   ]
  },
  {
   "cell_type": "code",
   "execution_count": 31,
   "metadata": {},
   "outputs": [
    {
     "name": "stdout",
     "output_type": "stream",
     "text": [
      "[[4 4 3]\n",
      " [4 4 5]\n",
      " [3 4 3]]\n"
     ]
    }
   ],
   "source": [
    "add = np.add(a,b) # addition of two vectors\n",
    "print(add)"
   ]
  },
  {
   "cell_type": "code",
   "execution_count": 35,
   "metadata": {},
   "outputs": [
    {
     "name": "stdout",
     "output_type": "stream",
     "text": [
      "[[-0.16448678 -0.71518405 -0.05974179]\n",
      " [ 0.12577824 -0.44613247 -0.02784177]\n",
      " [ 0.62725958  0.43716961  0.77670104]]\n"
     ]
    }
   ],
   "source": [
    "x= np.random.randn(3,3) # generates random number \n",
    "print(x)"
   ]
  },
  {
   "cell_type": "code",
   "execution_count": 36,
   "metadata": {},
   "outputs": [
    {
     "name": "stdout",
     "output_type": "stream",
     "text": [
      "[[5 3]\n",
      " [6 8]]\n",
      "[[4 4]\n",
      " [8 6]]\n",
      "dot prod\n",
      " [[44 38]\n",
      " [88 72]]\n",
      "cross product\n",
      " [  8 -28]\n",
      "add\n",
      " [[ 9  7]\n",
      " [14 14]]\n"
     ]
    }
   ],
   "source": [
    "# dot, cross, add of vectors\n",
    "\n",
    "import random\n",
    "a= np.random.randint(1,9, (2,2))\n",
    "b= np.random.randint(1,9, (2,2))\n",
    "abdot= np.dot(a, b)\n",
    "abcross= np.cross(a, b)\n",
    "abadd= np.add(a,b)\n",
    "print(a)\n",
    "print(b)\n",
    "print(\"dot prod\\n\", abdot)\n",
    "print(\"cross product\\n\", abcross)\n",
    "print(\"add\\n\", abadd)"
   ]
  },
  {
   "cell_type": "code",
   "execution_count": null,
   "metadata": {},
   "outputs": [],
   "source": []
  }
 ],
 "metadata": {
  "kernelspec": {
   "display_name": "Python 3",
   "language": "python",
   "name": "python3"
  },
  "language_info": {
   "codemirror_mode": {
    "name": "ipython",
    "version": 3
   },
   "file_extension": ".py",
   "mimetype": "text/x-python",
   "name": "python",
   "nbconvert_exporter": "python",
   "pygments_lexer": "ipython3",
   "version": "3.6.5"
  }
 },
 "nbformat": 4,
 "nbformat_minor": 2
}
